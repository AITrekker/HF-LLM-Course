{
 "cells": [
  {
   "cell_type": "markdown",
   "metadata": {},
   "source": [
    "# Normalization and pre-tokenization"
   ]
  },
  {
   "cell_type": "markdown",
   "metadata": {},
   "source": [
    "Install the Transformers, Datasets, and Evaluate libraries to run this notebook."
   ]
  },
  {
   "cell_type": "code",
   "execution_count": null,
   "metadata": {},
   "outputs": [],
   "source": "# Install required packages for tokenizer analysis\n# - datasets: For loading and processing text datasets\n# - evaluate: For model evaluation metrics\n# - transformers[sentencepiece]: Core library with SentencePiece support\n!uv pip install datasets evaluate transformers[sentencepiece]"
  },
  {
   "cell_type": "code",
   "execution_count": null,
   "metadata": {},
   "outputs": [],
   "source": "# Load a pre-trained tokenizer to explore its internal components\n# We use BERT's tokenizer which implements the WordPiece algorithm\nfrom transformers import AutoTokenizer\n\ntokenizer = AutoTokenizer.from_pretrained(\"bert-base-uncased\")\n\n# Access the fast tokenizer backend to examine normalization and pre-tokenization\n# The backend_tokenizer provides low-level access to tokenizer components\nprint(type(tokenizer.backend_tokenizer))"
  },
  {
   "cell_type": "code",
   "execution_count": null,
   "metadata": {},
   "outputs": [],
   "source": "# Demonstrate text normalization - the first step in tokenization\n# Normalization standardizes text by:\n# - Converting to lowercase (for bert-base-uncased)\n# - Removing or converting accents and special characters\n# - Standardizing unicode representations\nprint(tokenizer.backend_tokenizer.normalizer.normalize_str(\"Héllò hôw are ü?\"))"
  },
  {
   "cell_type": "code",
   "execution_count": null,
   "metadata": {},
   "outputs": [],
   "source": "# Demonstrate pre-tokenization - splitting text into word-like units\n# Pre-tokenization happens after normalization and before applying the main tokenization algorithm\n# BERT's pre-tokenizer splits on whitespace and punctuation\n# Returns tuples of (token, (start_offset, end_offset)) to preserve original positions\ntokenizer.backend_tokenizer.pre_tokenizer.pre_tokenize_str(\"Hello, how are  you?\")"
  },
  {
   "cell_type": "code",
   "execution_count": null,
   "metadata": {},
   "outputs": [],
   "source": "# Compare pre-tokenization behavior with GPT-2's tokenizer\n# GPT-2 uses Byte-Pair Encoding (BPE) with different pre-tokenization rules\n# Notice the 'Ġ' character - this represents spaces in GPT-2's encoding\ntokenizer = AutoTokenizer.from_pretrained(\"gpt2\")\ntokenizer.backend_tokenizer.pre_tokenizer.pre_tokenize_str(\"Hello, how are  you?\")"
  },
  {
   "cell_type": "code",
   "execution_count": null,
   "metadata": {},
   "outputs": [],
   "source": "# Compare with T5's tokenizer which uses SentencePiece\n# T5 uses the Unigram algorithm with SentencePiece implementation\n# Notice the '▁' character which represents word boundaries in SentencePiece\n# SentencePiece treats spaces as part of tokens rather than separators\ntokenizer = AutoTokenizer.from_pretrained(\"t5-small\")\ntokenizer.backend_tokenizer.pre_tokenizer.pre_tokenize_str(\"Hello, how are  you?\")"
  }
 ],
 "metadata": {
  "colab": {
   "name": "Normalization and pre-tokenization",
   "provenance": []
  },
  "kernelspec": {
   "display_name": "Python (HF-notebooks)",
   "language": "python",
   "name": "HF-notebooks"
  }
 },
 "nbformat": 4,
 "nbformat_minor": 4
}