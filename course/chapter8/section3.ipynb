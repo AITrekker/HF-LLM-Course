{
 "cells": [
  {
   "cell_type": "markdown",
   "metadata": {},
   "source": [
    "# Asking for help on the forums"
   ]
  },
  {
   "cell_type": "markdown",
   "metadata": {},
   "source": [
    "Install the Transformers, Datasets, and Evaluate libraries to run this notebook."
   ]
  },
  {
   "cell_type": "code",
   "execution_count": null,
   "metadata": {},
   "outputs": [],
   "source": "# Install required libraries for Transformers, datasets, and evaluation\n!uv pip install datasets evaluate transformers[sentencepiece]"
  },
  {
   "cell_type": "code",
   "execution_count": null,
   "metadata": {},
   "outputs": [],
   "source": "# Load a DistilBERT model and tokenizer for demonstration\n# DistilBERT is a lighter, faster version of BERT with similar performance\nfrom transformers import AutoTokenizer, AutoModel\n\nmodel_checkpoint = \"distilbert-base-uncased\"\ntokenizer = AutoTokenizer.from_pretrained(model_checkpoint)\nmodel = AutoModel.from_pretrained(model_checkpoint)"
  },
  {
   "cell_type": "code",
   "execution_count": null,
   "metadata": {},
   "outputs": [],
   "source": "# Example text about Transformers to demonstrate potential issues\n# This text will help us explore common problems when asking for help\ntext = \"\"\"\nGeneration One is a retroactive term for the Transformers characters that\nappeared between 1984 and 1993. The Transformers began with the 1980s Japanese\ntoy lines Micro Change and Diaclone. They presented robots able to transform\ninto everyday vehicles, electronic items or weapons. Hasbro bought the Micro\nChange and Diaclone toys, and partnered with Takara. Marvel Comics was hired by\nHasbro to create the backstory; editor-in-chief Jim Shooter wrote an overall\nstory, and gave the task of creating the characthers to writer Dennis O'Neil.\nUnhappy with O'Neil's work (although O'Neil created the name \"Optimus Prime\"),\nShooter chose Bob Budiansky to create the characters.\n\nThe Transformers mecha were largely designed by Shōji Kawamori, the creator of\nthe Japanese mecha anime franchise Macross (which was adapted into the Robotech\nfranchise in North America). Kawamori came up with the idea of transforming\nmechs while working on the Diaclone and Macross franchises in the early 1980s\n(such as the VF-1 Valkyrie in Macross and Robotech), with his Diaclone mechs\nlater providing the basis for Transformers.\n\nThe primary concept of Generation One is that the heroic Optimus Prime, the\nvillainous Megatron, and their finest soldiers crash land on pre-historic Earth\nin the Ark and the Nemesis before awakening in 1985, Cybertron hurtling through\nthe Neutral zone as an effect of the war. The Marvel comic was originally part\nof the main Marvel Universe, with appearances from Spider-Man and Nick Fury,\nplus some cameos, as well as a visit to the Savage Land.\n\nThe Transformers TV series began around the same time. Produced by Sunbow\nProductions and Marvel Productions, later Hasbro Productions, from the start it\ncontradicted Budiansky's backstories. The TV series shows the Autobots looking\nfor new energy sources, and crash landing as the Decepticons attack. Marvel\ninterpreted the Autobots as destroying a rogue asteroid approaching Cybertron.\nShockwave is loyal to Megatron in the TV series, keeping Cybertron in a\nstalemate during his absence, but in the comic book he attempts to take command\nof the Decepticons. The TV series would also differ wildly from the origins\nBudiansky had created for the Dinobots, the Decepticon turned Autobot Jetfire\n(known as Skyfire on TV), the Constructicons (who combine to form\nDevastator),[19][20] and Omega Supreme. The Marvel comic establishes early on\nthat Prime wields the Creation Matrix, which gives life to machines. In the\nsecond season, the two-part episode The Key to Vector Sigma introduced the\nancient Vector Sigma computer, which served the same original purpose as the\nCreation Matrix (giving life to Transformers), and its guardian Alpha Trion.\n\"\"\"\n\n# Tokenize the text and get model outputs\n# return_tensors=\"pt\" ensures PyTorch tensors are returned\ninputs = tokenizer(text, return_tensors=\"pt\")\nlogits = model(**inputs).logits"
  }
 ],
 "metadata": {
  "colab": {
   "name": "Asking for help on the forums",
   "provenance": []
  },
  "kernelspec": {
   "display_name": "Python (HF-notebooks)",
   "language": "python",
   "name": "HF-notebooks"
  }
 },
 "nbformat": 4,
 "nbformat_minor": 4
}