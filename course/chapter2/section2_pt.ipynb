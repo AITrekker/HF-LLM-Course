{
 "cells": [
  {
   "cell_type": "markdown",
   "metadata": {},
   "source": [
    "# Behind the pipeline (PyTorch)"
   ]
  },
  {
   "cell_type": "markdown",
   "metadata": {},
   "source": [
    "Install the Transformers, Datasets, and Evaluate libraries to run this notebook."
   ]
  },
  {
   "cell_type": "code",
   "execution_count": null,
   "metadata": {},
   "outputs": [],
   "source": "# Install required libraries for Transformers, datasets, and evaluation\n!uv pip install datasets evaluate transformers[sentencepiece]"
  },
  {
   "cell_type": "code",
   "execution_count": null,
   "metadata": {},
   "outputs": [],
   "source": "# High-level pipeline demonstration - shows the end result we'll build step by step\n# This pipeline automatically handles tokenization, model inference, and post-processing\nfrom transformers import pipeline\n\nclassifier = pipeline(\"sentiment-analysis\")\nclassifier(\n    [\n        \"I've been waiting for a HuggingFace course my whole life.\",\n        \"I hate this so much!\",\n    ]\n)"
  },
  {
   "cell_type": "code",
   "execution_count": null,
   "metadata": {},
   "outputs": [],
   "source": "# Step 1: Tokenization - Convert text to numbers the model can understand\n# AutoTokenizer automatically selects the correct tokenizer for the model\n# This specific checkpoint is DistilBERT fine-tuned for sentiment analysis (SST-2 dataset)\nfrom transformers import AutoTokenizer\n\ncheckpoint = \"distilbert-base-uncased-finetuned-sst-2-english\"\ntokenizer = AutoTokenizer.from_pretrained(checkpoint)"
  },
  {
   "cell_type": "code",
   "execution_count": null,
   "metadata": {},
   "outputs": [],
   "source": "# Tokenize the input texts with important preprocessing steps:\n# - padding=True: pads shorter sequences to match the longest one in the batch\n# - truncation=True: cuts off sequences that are too long for the model\n# - return_tensors=\"pt\": returns PyTorch tensors instead of lists\nraw_inputs = [\n    \"I've been waiting for a HuggingFace course my whole life.\",\n    \"I hate this so much!\",\n]\ninputs = tokenizer(raw_inputs, padding=True, truncation=True, return_tensors=\"pt\")\nprint(inputs)\n\n# The output contains:\n# - input_ids: numerical representations of tokens\n# - attention_mask: tells the model which tokens to pay attention to (1) vs padding (0)"
  },
  {
   "cell_type": "code",
   "execution_count": null,
   "metadata": {},
   "outputs": [],
   "source": "# Step 2A: Load the base model (without task-specific head)\n# AutoModel gives us the core transformer that outputs contextualized embeddings\n# This is the same checkpoint but without the classification layer\nfrom transformers import AutoModel\n\ncheckpoint = \"distilbert-base-uncased-finetuned-sst-2-english\"\nmodel = AutoModel.from_pretrained(checkpoint)"
  },
  {
   "cell_type": "code",
   "execution_count": null,
   "metadata": {},
   "outputs": [],
   "source": "# Pass tokenized inputs through the base model\n# Output shape: [batch_size, sequence_length, hidden_size]\n# - batch_size=2 (two input sentences)\n# - sequence_length=16 (padded length)\n# - hidden_size=768 (DistilBERT's embedding dimension)\noutputs = model(**inputs)\nprint(outputs.last_hidden_state.shape)\n\n# These are high-dimensional embeddings, but not yet predictions for our task"
  },
  {
   "cell_type": "code",
   "execution_count": null,
   "metadata": {},
   "outputs": [],
   "source": "# Step 2B: Load the model with the classification head\n# AutoModelForSequenceClassification adds a classification layer on top of the base model\n# This layer converts the embeddings into class predictions (positive/negative sentiment)\nfrom transformers import AutoModelForSequenceClassification\n\ncheckpoint = \"distilbert-base-uncased-finetuned-sst-2-english\"\nmodel = AutoModelForSequenceClassification.from_pretrained(checkpoint)\noutputs = model(**inputs)"
  },
  {
   "cell_type": "code",
   "execution_count": null,
   "metadata": {},
   "outputs": [],
   "source": "# Check the output shape: [batch_size, num_classes]\n# - batch_size=2 (two input sentences)\n# - num_classes=2 (NEGATIVE and POSITIVE sentiment classes)\nprint(outputs.logits.shape)"
  },
  {
   "cell_type": "code",
   "execution_count": null,
   "metadata": {},
   "outputs": [],
   "source": "# Raw logits (unnormalized scores) from the model\n# These numbers don't directly represent probabilities yet\n# Higher values indicate stronger prediction for that class\nprint(outputs.logits)"
  },
  {
   "cell_type": "code",
   "execution_count": null,
   "metadata": {},
   "outputs": [],
   "source": "# Step 3: Post-processing - Convert logits to probabilities\n# Softmax function converts raw scores to probabilities that sum to 1\n# dim=-1 applies softmax across the last dimension (the classes)\nimport torch\n\npredictions = torch.nn.functional.softmax(outputs.logits, dim=-1)\nprint(predictions)\n\n# Now we can see:\n# First sentence: ~4% negative, ~96% positive\n# Second sentence: ~99.9% negative, ~0.05% positive"
  },
  {
   "cell_type": "code",
   "execution_count": null,
   "metadata": {},
   "outputs": [
    {
     "data": {
      "text/plain": [
       "{0: 'NEGATIVE', 1: 'POSITIVE'}"
      ]
     },
     "execution_count": null,
     "metadata": {},
     "output_type": "execute_result"
    }
   ],
   "source": [
    "model.config.id2label"
   ]
  }
 ],
 "metadata": {
  "colab": {
   "name": "Behind the pipeline (PyTorch)",
   "provenance": []
  },
  "kernelspec": {
   "display_name": "Python (HF-notebooks)",
   "language": "python",
   "name": "HF-notebooks"
  }
 },
 "nbformat": 4,
 "nbformat_minor": 4
}