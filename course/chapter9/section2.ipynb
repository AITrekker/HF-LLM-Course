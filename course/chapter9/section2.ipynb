{
 "cells": [
  {
   "cell_type": "markdown",
   "metadata": {},
   "source": [
    "# Building your first demo"
   ]
  },
  {
   "cell_type": "markdown",
   "metadata": {},
   "source": [
    "Install the Transformers, Datasets, and Evaluate libraries to run this notebook."
   ]
  },
  {
   "cell_type": "code",
   "execution_count": null,
   "metadata": {},
   "outputs": [],
   "source": "# Install required libraries for Transformers, datasets, evaluation, and Gradio interface\n!uv pip install datasets evaluate transformers[sentencepiece]\n!uv pip install gradio"
  },
  {
   "cell_type": "code",
   "execution_count": null,
   "metadata": {},
   "outputs": [],
   "source": "# Basic Gradio interface - creates a simple function that greets the user\n# This demonstrates the fundamental structure of a Gradio app\nimport gradio as gr\n\n\ndef greet(name):\n    return \"Hello \" + name\n\n\n# Create an interface with text input and text output\ndemo = gr.Interface(fn=greet, inputs=\"text\", outputs=\"text\")\n\ndemo.launch()"
  },
  {
   "cell_type": "code",
   "execution_count": null,
   "metadata": {},
   "outputs": [],
   "source": "# Customized Gradio interface - demonstrates how to customize input components\n# The Textbox class allows for more detailed configuration of text inputs\nimport gradio as gr\n\n\ndef greet(name):\n    return \"Hello \" + name\n\n\n# We instantiate the Textbox class with custom properties\n# label: descriptive text shown above the input\n# placeholder: hint text shown in empty input field\n# lines: number of visible text lines (creates a textarea for >1)\ntextbox = gr.Textbox(label=\"Type your name here:\", placeholder=\"John Doe\", lines=2)\n\ngr.Interface(fn=greet, inputs=textbox, outputs=\"text\").launch()"
  },
  {
   "cell_type": "code",
   "execution_count": null,
   "metadata": {},
   "outputs": [],
   "source": "# Text generation with Transformers pipeline - creates a text completion function\n# This integrates a pre-trained language model into our Gradio interface\nfrom transformers import pipeline\n\n# Load a text generation pipeline - uses default model (GPT-2)\n# The pipeline handles model loading, tokenization, and generation automatically\nmodel = pipeline(\"text-generation\")\n\n\ndef predict(prompt):\n    # Generate text completion from the prompt\n    # [0] gets the first (and only) result from the pipeline\n    # [\"generated_text\"] extracts the generated text from the result dictionary\n    completion = model(prompt)[0][\"generated_text\"]\n    return completion"
  },
  {
   "cell_type": "code",
   "execution_count": null,
   "metadata": {},
   "outputs": [],
   "source": "# Launch the text generation interface\n# This creates a web interface where users can input text and get AI-generated completions\nimport gradio as gr\n\n# Connect our predict function to a simple text-to-text interface\n# Users type in prompts and receive generated text completions\ngr.Interface(fn=predict, inputs=\"text\", outputs=\"text\").launch()"
  }
 ],
 "metadata": {
  "colab": {
   "name": "Building your first demo",
   "provenance": []
  },
  "kernelspec": {
   "display_name": "Python (HF-notebooks)",
   "language": "python",
   "name": "HF-notebooks"
  }
 },
 "nbformat": 4,
 "nbformat_minor": 4
}