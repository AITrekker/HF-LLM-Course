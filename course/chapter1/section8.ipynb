{
 "cells": [
  {
   "cell_type": "markdown",
   "metadata": {},
   "source": [
    "# Bias and limitations"
   ]
  },
  {
   "cell_type": "markdown",
   "metadata": {},
   "source": [
    "Install the Transformers, Datasets, and Evaluate libraries to run this notebook."
   ]
  },
  {
   "cell_type": "code",
   "execution_count": null,
   "metadata": {},
   "outputs": [],
   "source": [
    "# Install required libraries for Transformers, datasets, and evaluation\n",
    "!uv pip install datasets evaluate transformers[sentencepiece]"
   ]
  },
  {
   "cell_type": "code",
   "execution_count": null,
   "metadata": {},
   "outputs": [],
   "source": [
    "# Demonstrating gender bias in pre-trained models\n",
    "# This example shows how BERT predicts different professions based on gender\n",
    "# highlighting the biases learned from training data\n",
    "\n",
    "from transformers import pipeline\n",
    "\n",
    "unmasker = pipeline(\"fill-mask\", model=\"bert-base-uncased\")\n",
    "\n",
    "# Test with \"man\" - notice the types of professions predicted\n",
    "result = unmasker(\"This man works as a [MASK].\")\n",
    "print([r[\"token_str\"] for r in result])\n",
    "\n",
    "# Test with \"woman\" - compare the different profession types predicted\n",
    "result = unmasker(\"This woman works as a [MASK].\")\n",
    "print([r[\"token_str\"] for r in result])\n",
    "\n",
    "# Key observations:\n",
    "# - \"man\" predictions: higher-status, traditionally male-dominated roles\n",
    "# - \"woman\" predictions: service-oriented, traditionally female-associated roles\n",
    "# - This reflects societal biases present in the model's training data\n",
    "# - Important consideration for real-world AI applications"
   ]
  }
 ],
 "metadata": {
  "colab": {
   "name": "Bias and limitations",
   "provenance": []
  },
  "kernelspec": {
   "display_name": "Python (HF-notebooks)",
   "language": "python",
   "name": "HF-notebooks"
  }
 },
 "nbformat": 4,
 "nbformat_minor": 4
}
