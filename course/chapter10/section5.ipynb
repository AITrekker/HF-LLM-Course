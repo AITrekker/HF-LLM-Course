{
 "cells": [
  {
   "cell_type": "markdown",
   "metadata": {},
   "source": [
    "# Use your annotated dataset"
   ]
  },
  {
   "cell_type": "code",
   "execution_count": null,
   "metadata": {},
   "outputs": [],
   "source": "# Install Argilla for working with annotated datasets\n!uv pip install argilla"
  },
  {
   "cell_type": "code",
   "execution_count": null,
   "metadata": {},
   "outputs": [],
   "source": "# Set up Argilla client to access your annotation workspace\n# Replace the placeholders with your actual Argilla instance details\nimport argilla as rg\n\nHF_TOKEN = \"...\"  # only for private spaces - your Hugging Face token\n\n# Initialize the Argilla client with your workspace credentials\nclient = rg.Argilla(\n    api_url=\"...\",  # URL of your Argilla instance (e.g., \"https://your-space.hf.space\")\n    api_key=\"...\",  # Your Argilla API key for authentication\n    headers={\"Authorization\": f\"Bearer {HF_TOKEN}\"},  # only for private spaces\n)"
  },
  {
   "cell_type": "code",
   "execution_count": null,
   "metadata": {},
   "outputs": [],
   "source": "# Retrieve the annotated dataset from your Argilla workspace\n# This connects to the dataset created in the previous sections\ndataset = client.datasets(name=\"ag_news\")"
  },
  {
   "cell_type": "code",
   "execution_count": null,
   "metadata": {},
   "outputs": [],
   "source": "# Filter records to get only completed annotations\n# This ensures we only work with data that has been fully annotated by human annotators\nstatus_filter = rg.Query(filter=rg.Filter([(\"status\", \"==\", \"completed\")]))\n\n# Apply the filter to get only completed annotation records\nfiltered_records = dataset.records(status_filter)"
  },
  {
   "cell_type": "code",
   "execution_count": null,
   "metadata": {},
   "outputs": [],
   "source": "# Export annotated data to Hugging Face Hub as a dataset\n# This converts the annotated records to a Hugging Face dataset format and uploads it\nfiltered_records.to_datasets().push_to_hub(\"argilla/ag_news_annotated\")"
  },
  {
   "cell_type": "code",
   "execution_count": null,
   "metadata": {},
   "outputs": [],
   "source": "# Alternative method: Export the entire dataset with all its configuration\n# This preserves the Argilla dataset structure and settings along with the data\ndataset.to_hub(repo_id=\"argilla/ag_news_annotated\")"
  },
  {
   "cell_type": "code",
   "execution_count": null,
   "metadata": {},
   "outputs": [],
   "source": "# Load an annotated dataset from Hugging Face Hub back into Argilla\n# This allows you to reuse or continue working with previously annotated datasets\ndataset = rg.Dataset.from_hub(repo_id=\"argilla/ag_news_annotated\")"
  }
 ],
 "metadata": {
  "colab": {
   "name": "Use your annotated dataset",
   "provenance": []
  },
  "kernelspec": {
   "display_name": "Python (HF-notebooks)",
   "language": "python",
   "name": "HF-notebooks"
  },
  "language_info": {
   "name": "python"
  }
 },
 "nbformat": 4,
 "nbformat_minor": 4
}