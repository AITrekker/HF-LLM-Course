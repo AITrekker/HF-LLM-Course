{
 "cells": [
  {
   "cell_type": "markdown",
   "metadata": {},
   "source": [
    "# Set up your Argilla instance"
   ]
  },
  {
   "cell_type": "code",
   "execution_count": null,
   "metadata": {},
   "outputs": [],
   "source": "# Install Argilla for data annotation and management\n!uv pip install argilla"
  },
  {
   "cell_type": "code",
   "execution_count": null,
   "metadata": {},
   "outputs": [],
   "source": "# Set up Argilla client to connect to your annotation workspace\n# Replace the placeholders with your actual Argilla instance details\nimport argilla as rg\n\nHF_TOKEN = \"...\"  # only for private spaces - your Hugging Face token\n\n# Initialize the Argilla client with your workspace credentials\nclient = rg.Argilla(\n    api_url=\"...\",  # URL of your Argilla instance (e.g., \"https://your-space.hf.space\")\n    api_key=\"...\",  # Your Argilla API key for authentication\n    headers={\"Authorization\": f\"Bearer {HF_TOKEN}\"},  # only for private spaces\n)"
  },
  {
   "cell_type": "code",
   "execution_count": null,
   "metadata": {},
   "outputs": [],
   "source": "# Verify your connection by checking your user information\n# This confirms that the client is properly configured and connected\nclient.me"
  }
 ],
 "metadata": {
  "colab": {
   "name": "Set up your Argilla instance",
   "provenance": []
  },
  "kernelspec": {
   "display_name": "Python (HF-notebooks)",
   "language": "python",
   "name": "HF-notebooks"
  },
  "language_info": {
   "name": "python"
  }
 },
 "nbformat": 4,
 "nbformat_minor": 4
}