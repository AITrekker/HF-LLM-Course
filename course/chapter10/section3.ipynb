{
 "cells": [
  {
   "cell_type": "markdown",
   "metadata": {},
   "source": [
    "# Load your dataset to Argilla"
   ]
  },
  {
   "cell_type": "code",
   "execution_count": null,
   "metadata": {},
   "outputs": [],
   "source": "# Install required libraries for Argilla and Hugging Face datasets\n!uv pip install argilla datasets"
  },
  {
   "cell_type": "code",
   "execution_count": null,
   "metadata": {},
   "outputs": [],
   "source": "# Set up Argilla client connection\n# Replace the placeholders with your actual Argilla instance details\nimport argilla as rg\n\nHF_TOKEN = \"...\"  # only for private spaces - your Hugging Face token\n\n# Initialize the Argilla client with your workspace credentials\nclient = rg.Argilla(\n    api_url=\"...\",  # URL of your Argilla instance (e.g., \"https://your-space.hf.space\")\n    api_key=\"...\",  # Your Argilla API key for authentication\n    headers={\"Authorization\": f\"Bearer {HF_TOKEN}\"},  # only for private spaces\n)"
  },
  {
   "cell_type": "code",
   "execution_count": null,
   "metadata": {},
   "outputs": [],
   "source": "# Load the AG News dataset for text classification\n# This dataset contains news articles categorized into 4 classes: World, Sports, Business, Sci/Tech\nfrom datasets import load_dataset\n\ndata = load_dataset(\"SetFit/ag_news\", split=\"train\")\n# Inspect the dataset structure to understand what fields are available\ndata.features"
  },
  {
   "cell_type": "code",
   "execution_count": null,
   "metadata": {},
   "outputs": [],
   "source": "# Configure the annotation settings for our dataset\n# This defines what annotators will see and what tasks they need to perform\nsettings = rg.Settings(\n    # Define the input field that annotators will see\n    fields=[rg.TextField(name=\"text\")],\n    # Define the annotation tasks\n    questions=[\n        # Task 1: Label classification - assign one of the existing categories\n        rg.LabelQuestion(\n            name=\"label\", \n            title=\"Classify the text:\", \n            labels=data.unique(\"label_text\")  # Use the existing category labels from the dataset\n        ),\n        # Task 2: Named Entity Recognition - highlight entities in the text\n        rg.SpanQuestion(\n            name=\"entities\",\n            title=\"Highlight all the entities in the text:\",\n            labels=[\"PERSON\", \"ORG\", \"LOC\", \"EVENT\"],  # Entity types to annotate\n            field=\"text\",  # Field to perform entity annotation on\n        ),\n    ],\n)"
  },
  {
   "cell_type": "code",
   "execution_count": null,
   "metadata": {},
   "outputs": [],
   "source": "# Create the dataset in Argilla with our defined settings\n# This sets up the annotation workspace with the specified configuration\ndataset = rg.Dataset(name=\"ag_news\", settings=settings)\n\n# Create the dataset on the Argilla server\ndataset.create()"
  },
  {
   "cell_type": "code",
   "execution_count": null,
   "metadata": {},
   "outputs": [],
   "source": "# Upload the data to Argilla for annotation\n# This loads all the news articles into the annotation interface\n# mapping parameter connects the dataset's \"label_text\" field to Argilla's \"label\" question\ndataset.records.log(data, mapping={\"label_text\": \"label\"})"
  }
 ],
 "metadata": {
  "colab": {
   "name": "Load your dataset to Argilla",
   "provenance": []
  },
  "kernelspec": {
   "display_name": "Python (HF-notebooks)",
   "language": "python",
   "name": "HF-notebooks"
  },
  "language_info": {
   "name": "python"
  }
 },
 "nbformat": 4,
 "nbformat_minor": 4
}